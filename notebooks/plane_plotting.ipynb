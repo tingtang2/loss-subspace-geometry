{
 "cells": [
  {
   "cell_type": "code",
   "execution_count": 1,
   "metadata": {},
   "outputs": [
    {
     "name": "stderr",
     "output_type": "stream",
     "text": [
      "/gpfs/commons/home/tchen/loss_sub_space_geometry_project/loss-subspace-geometry/env/lib/python3.7/site-packages/tqdm/auto.py:21: TqdmWarning: IProgress not found. Please update jupyter and ipywidgets. See https://ipywidgets.readthedocs.io/en/stable/user_install.html\n",
      "  from .autonotebook import tqdm as notebook_tqdm\n"
     ]
    }
   ],
   "source": [
    "import torch\n",
    "from torch import nn\n",
    "import numpy as np\n",
    "\n",
    "from torch.nn import functional as F\n",
    "\n",
    "import os \n",
    "\n",
    "os.chdir('/gpfs/commons/home/tchen/loss_sub_space_geometry_project/loss-subspace-geometry/src')\n",
    "\n",
    "from models.mlp import SubspaceNN, NN"
   ]
  },
  {
   "cell_type": "code",
   "execution_count": 2,
   "metadata": {},
   "outputs": [
    {
     "data": {
      "text/plain": [
       "<All keys matched successfully>"
      ]
     },
     "execution_count": 2,
     "metadata": {},
     "output_type": "execute_result"
    }
   ],
   "source": [
    "# configs\n",
    "data_dim = 784\n",
    "hidden_size = 512\n",
    "out_dim = 10\n",
    "dropout_prob = 0.3\n",
    "seed = 11202022\n",
    "device = torch.device('cuda')\n",
    "\n",
    "model_path = '/gpfs/commons/home/tchen/loss_sub_space_geometry_project/loss-subspace-geometry-save/models/subspace_vanilla_mlp_0.pt'\n",
    "\n",
    "curve_model = SubspaceNN(input_dim=data_dim, \n",
    "                         hidden_dim=hidden_size, \n",
    "                         out_dim=out_dim, \n",
    "                         dropout_prob=dropout_prob, \n",
    "                         seed=seed).to(device)\n",
    "checkpoint = torch.load(model_path)\n",
    "curve_model.load_state_dict(checkpoint)"
   ]
  },
  {
   "cell_type": "code",
   "execution_count": 3,
   "metadata": {},
   "outputs": [],
   "source": [
    "# more configs\n",
    "curve_points = 61\n",
    "grid_points = 21\n",
    "margin_left = 0.2\n",
    "margin_right = 0.2\n",
    "margin_bottom = 0.2\n",
    "margin_top = 0.2"
   ]
  },
  {
   "cell_type": "code",
   "execution_count": 4,
   "metadata": {},
   "outputs": [
    {
     "data": {
      "text/plain": [
       "SubspaceNN(\n",
       "  (mlp): SubspaceMLP(\n",
       "    (linear): LinesLinear(in_features=784, out_features=512, bias=True)\n",
       "    (dropout): Dropout(p=0.3, inplace=False)\n",
       "  )\n",
       "  (out): LinesLinear(in_features=512, out_features=10, bias=True)\n",
       ")"
      ]
     },
     "execution_count": 4,
     "metadata": {},
     "output_type": "execute_result"
    }
   ],
   "source": [
    "curve_model"
   ]
  },
  {
   "cell_type": "code",
   "execution_count": 5,
   "metadata": {},
   "outputs": [],
   "source": [
    "curve_parameters = list(curve_model.parameters())\n",
    "w = []\n",
    "\n",
    "w.append(np.concatenate([\n",
    "        p.data.cpu().numpy().ravel() for p in [curve_parameters[0], curve_parameters[1], curve_parameters[3], curve_parameters[4]]\n",
    "    ]))\n",
    "\n",
    "w.append(np.concatenate([\n",
    "        p.data.cpu().numpy().ravel() for p in [curve_parameters[2], curve_parameters[1], curve_parameters[5], curve_parameters[4]]\n",
    "    ]))"
   ]
  },
  {
   "cell_type": "code",
   "execution_count": 6,
   "metadata": {},
   "outputs": [
    {
     "data": {
      "text/plain": [
       "<All keys matched successfully>"
      ]
     },
     "execution_count": 6,
     "metadata": {},
     "output_type": "execute_result"
    }
   ],
   "source": [
    "isolated_model = NN(input_dim=data_dim, \n",
    "                         hidden_dim=hidden_size, \n",
    "                         out_dim=out_dim, \n",
    "                         dropout_prob=dropout_prob).to(device)\n",
    "isolated_checkpoint = torch.load('/gpfs/commons/home/tchen/loss_sub_space_geometry_project/loss-subspace-geometry-save/models/vanilla_mlp.pt')\n",
    "isolated_model.load_state_dict(isolated_checkpoint)"
   ]
  },
  {
   "cell_type": "code",
   "execution_count": 7,
   "metadata": {},
   "outputs": [
    {
     "data": {
      "text/plain": [
       "NN(\n",
       "  (mlp): MLP(\n",
       "    (linear): Linear(in_features=784, out_features=512, bias=True)\n",
       "    (dropout): Dropout(p=0.3, inplace=False)\n",
       "  )\n",
       "  (out): Linear(in_features=512, out_features=10, bias=True)\n",
       ")"
      ]
     },
     "execution_count": 7,
     "metadata": {},
     "output_type": "execute_result"
    }
   ],
   "source": [
    "isolated_model"
   ]
  },
  {
   "cell_type": "code",
   "execution_count": 8,
   "metadata": {},
   "outputs": [],
   "source": [
    "w.append(np.concatenate([\n",
    "        p.data.cpu().numpy().ravel() for p in list(isolated_model.parameters())\n",
    "    ]))"
   ]
  },
  {
   "cell_type": "code",
   "execution_count": 9,
   "metadata": {},
   "outputs": [
    {
     "name": "stdout",
     "output_type": "stream",
     "text": [
      "Weight space dimensionality: 407050\n"
     ]
    },
    {
     "name": "stderr",
     "output_type": "stream",
     "text": [
      "/gpfs/commons/home/tchen/loss_sub_space_geometry_project/loss-subspace-geometry/env/lib/python3.7/site-packages/IPython/core/interactiveshell.py:3473: FutureWarning: arrays to stack must be passed as a \"sequence\" type such as list or tuple. Support for non-sequence iterables such as generators is deprecated as of NumPy 1.16 and will raise an error in the future.\n",
      "  if (await self.run_code(code, result,  async_=asy)):\n"
     ]
    }
   ],
   "source": [
    "\n",
    "# set up for grid for plane plotting\n",
    "\n",
    "def get_xy(point, origin, vector_x, vector_y):\n",
    "    return np.array([np.dot(point - origin, vector_x), np.dot(point - origin, vector_y)])\n",
    "\n",
    "\n",
    "print('Weight space dimensionality: %d' % w[0].shape[0])\n",
    "\n",
    "u = w[2] - w[0]\n",
    "dx = np.linalg.norm(u)\n",
    "u /= dx\n",
    "\n",
    "v = w[1] - w[0]\n",
    "v -= np.dot(u, v) * u\n",
    "dy = np.linalg.norm(v)\n",
    "v /= dy\n",
    "\n",
    "bend_coordinates = np.stack(get_xy(p, w[0], u, v) for p in w)\n"
   ]
  },
  {
   "cell_type": "code",
   "execution_count": 10,
   "metadata": {},
   "outputs": [],
   "source": [
    "def get_weights(model: nn.Module, t):\n",
    "    weights = []\n",
    "    for module in model.modules():\n",
    "        if isinstance(module, nn.Linear):\n",
    "            # add attribute for weight dimensionality and subspace dimensionality\n",
    "            setattr(module, f'alpha', t)\n",
    "            weights.extend([module.get_weight(), module.bias.data])\n",
    "        # weights.extend([w for w in module.compute_weights_t(coeffs_t) if w is not None])\n",
    "    return np.concatenate([w.detach().cpu().numpy().ravel() for w in weights])\n"
   ]
  },
  {
   "cell_type": "code",
   "execution_count": 11,
   "metadata": {},
   "outputs": [],
   "source": [
    "\n",
    "ts = np.linspace(0.0, 1.0, curve_points)\n",
    "curve_coordinates = []\n",
    "for t in np.linspace(0.0, 1.0, curve_points):\n",
    "    weights = get_weights(model=curve_model, t=t)\n",
    "    curve_coordinates.append(get_xy(weights, w[0], u, v))\n",
    "\n",
    "isolated_model_weights = w[2]\n",
    "curve_coordinates.append(get_xy(isolated_model_weights, w[0], u, v))\n",
    "curve_coordinates = np.stack(curve_coordinates)\n",
    "\n",
    "G = grid_points\n",
    "alphas = np.linspace(0.0 - margin_left, 1.0 + margin_right, G)\n",
    "betas = np.linspace(0.0 - margin_bottom, 1.0 + margin_top, G)\n",
    "\n",
    "tr_loss = np.zeros((G, G))\n",
    "tr_nll = np.zeros((G, G))\n",
    "tr_acc = np.zeros((G, G))\n",
    "tr_err = np.zeros((G, G))\n",
    "\n",
    "te_loss = np.zeros((G, G))\n",
    "te_nll = np.zeros((G, G))\n",
    "te_acc = np.zeros((G, G))\n",
    "te_err = np.zeros((G, G))\n",
    "\n",
    "grid = np.zeros((G, G, 2))"
   ]
  },
  {
   "cell_type": "code",
   "execution_count": null,
   "metadata": {},
   "outputs": [],
   "source": [
    "\n",
    "base_model = architecture.base(num_classes, **architecture.kwargs)\n",
    "base_model.cuda()\n",
    "\n",
    "columns = ['X', 'Y', 'Train loss', 'Train nll', 'Train error (%)', 'Test nll', 'Test error (%)']\n",
    "\n",
    "for i, alpha in enumerate(alphas):\n",
    "    for j, beta in enumerate(betas):\n",
    "        p = w[0] + alpha * dx * u + beta * dy * v\n",
    "\n",
    "        offset = 0\n",
    "        for parameter in base_model.parameters():\n",
    "            size = np.prod(parameter.size())\n",
    "            value = p[offset:offset+size].reshape(parameter.size())\n",
    "            parameter.data.copy_(torch.from_numpy(value))\n",
    "            offset += size\n",
    "\n",
    "        utils.update_bn(loaders['train'], base_model)\n",
    "\n",
    "        tr_res = utils.test(loaders['train'], base_model, criterion, regularizer)\n",
    "        te_res = utils.test(loaders['test'], base_model, criterion, regularizer)\n",
    "\n",
    "        tr_loss_v, tr_nll_v, tr_acc_v = tr_res['loss'], tr_res['nll'], tr_res['accuracy']\n",
    "        te_loss_v, te_nll_v, te_acc_v = te_res['loss'], te_res['nll'], te_res['accuracy']\n",
    "\n",
    "        c = get_xy(p, w[0], u, v)\n",
    "        grid[i, j] = [alpha * dx, beta * dy]\n",
    "\n",
    "        tr_loss[i, j] = tr_loss_v\n",
    "        tr_nll[i, j] = tr_nll_v\n",
    "        tr_acc[i, j] = tr_acc_v\n",
    "        tr_err[i, j] = 100.0 - tr_acc[i, j]\n",
    "\n",
    "        te_loss[i, j] = te_loss_v\n",
    "        te_nll[i, j] = te_nll_v\n",
    "        te_acc[i, j] = te_acc_v\n",
    "        te_err[i, j] = 100.0 - te_acc[i, j]\n",
    "\n",
    "        values = [\n",
    "            grid[i, j, 0], grid[i, j, 1], tr_loss[i, j], tr_nll[i, j], tr_err[i, j],\n",
    "            te_nll[i, j], te_err[i, j]\n",
    "        ]\n",
    "        table = tabulate.tabulate([values], columns, tablefmt='simple', floatfmt='10.4f')\n",
    "        if j == 0:\n",
    "            table = table.split('\\n')\n",
    "            table = '\\n'.join([table[1]] + table)\n",
    "        else:\n",
    "            table = table.split('\\n')[2]\n",
    "        print(table)\n",
    "\n",
    "np.savez(\n",
    "    os.path.join('./', 'plane.npz'),\n",
    "    ts=ts,\n",
    "    bend_coordinates=bend_coordinates,\n",
    "    curve_coordinates=curve_coordinates,\n",
    "    alphas=alphas,\n",
    "    betas=betas,\n",
    "    grid=grid,\n",
    "    tr_loss=tr_loss,\n",
    "    tr_acc=tr_acc,\n",
    "    tr_nll=tr_nll,\n",
    "    tr_err=tr_err,\n",
    "    te_loss=te_loss,\n",
    "    te_acc=te_acc,\n",
    "    te_nll=te_nll,\n",
    "    te_err=te_err\n",
    ")"
   ]
  }
 ],
 "metadata": {
  "kernelspec": {
   "display_name": "Python 3",
   "language": "python",
   "name": "python3"
  },
  "language_info": {
   "codemirror_mode": {
    "name": "ipython",
    "version": 3
   },
   "file_extension": ".py",
   "mimetype": "text/x-python",
   "name": "python",
   "nbconvert_exporter": "python",
   "pygments_lexer": "ipython3",
   "version": "3.7.3"
  },
  "orig_nbformat": 4
 },
 "nbformat": 4,
 "nbformat_minor": 2
}
